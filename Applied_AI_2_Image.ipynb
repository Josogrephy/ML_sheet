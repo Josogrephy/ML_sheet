{
  "nbformat": 4,
  "nbformat_minor": 0,
  "metadata": {
    "colab": {
      "provenance": [],
      "collapsed_sections": [],
      "authorship_tag": "ABX9TyONyZQNCXMSutco6XMA/oMi",
      "include_colab_link": true
    },
    "kernelspec": {
      "name": "python3",
      "display_name": "Python 3"
    },
    "language_info": {
      "name": "python"
    }
  },
  "cells": [
    {
      "cell_type": "markdown",
      "metadata": {
        "id": "view-in-github",
        "colab_type": "text"
      },
      "source": [
        "<a href=\"https://colab.research.google.com/github/Josogrephy/ML_sheet/blob/main/Applied_AI_2_Image.ipynb\" target=\"_parent\"><img src=\"https://colab.research.google.com/assets/colab-badge.svg\" alt=\"Open In Colab\"/></a>"
      ]
    },
    {
      "cell_type": "code",
      "execution_count": null,
      "metadata": {
        "colab": {
          "base_uri": "https://localhost:8080/"
        },
        "id": "S6y1-C_r8wx3",
        "outputId": "4e9cb26d-42ba-4f49-c095-bcef203b96c0"
      },
      "outputs": [
        {
          "output_type": "execute_result",
          "data": {
            "text/plain": [
              "((10000, 28, 28), (10000,))"
            ]
          },
          "metadata": {},
          "execution_count": 15
        }
      ],
      "source": [
        "## import data\n",
        "import tensorflow as tf\n",
        "from sklearn.model_selection import train_test_split\n",
        "\n",
        "imgData = tf.keras.datasets.fashion_mnist.load_data()\n",
        "\n",
        "(X_train, y_train), (X_test, y_test) = imgData\n",
        "#X_train.shape, y_train.shape\n",
        "X_test.shape, y_test.shape"
      ]
    },
    {
      "cell_type": "code",
      "source": [
        "## Visualize the data\n",
        "import matplotlib.pyplot as plt\n",
        "import random\n",
        "\n",
        "# Define labels. Got it from: https://keras.io/api/datasets/fashion_mnist/\n",
        "fashion_mnist_labels = [\"T-shirt/top\",\"Trouser\",\"Pullover\", \"Dress\",     \"Coat\",     \"Sandal\",       \"Shirt\",       \"Sneaker\",      \"Bag\",          \"Ankle boot\"]   \n",
        "# Generate an image from index to check\n",
        "img_index = random.randint(1, 59999)\n",
        "# y_train = the labels\n",
        "label_index = y_train[img_index]\n",
        "# print label\n",
        "print (\"y = \" + str(label_index) + \" \" +(fashion_mnist_labels[label_index]))\n",
        "# show pic\n",
        "plt.imshow(X_train[img_index])"
      ],
      "metadata": {
        "colab": {
          "base_uri": "https://localhost:8080/",
          "height": 301
        },
        "id": "PcqBtwyUrxFU",
        "outputId": "292f314d-c5e7-4296-b368-f124ce3c01f4"
      },
      "execution_count": null,
      "outputs": [
        {
          "output_type": "stream",
          "name": "stdout",
          "text": [
            "y = 2 Pullover\n"
          ]
        },
        {
          "output_type": "execute_result",
          "data": {
            "text/plain": [
              "<matplotlib.image.AxesImage at 0x7f2c00019110>"
            ]
          },
          "metadata": {},
          "execution_count": 16
        },
        {
          "output_type": "display_data",
          "data": {
            "text/plain": [
              "<Figure size 432x288 with 1 Axes>"
            ],
            "image/png": "[encoded data removed]"
          },
          "metadata": {
            "needs_background": "light"
          }
        }
      ]
    },
    {
      "cell_type": "code",
      "source": [
        "## Normalize data\n",
        "X_train = X_train.astype('float32') / 255\n",
        "X_test = X_test.astype('float32') / 255"
      ],
      "metadata": {
        "id": "eMx7Wt1lwHlj"
      },
      "execution_count": null,
      "outputs": []
    },
    {
      "cell_type": "code",
      "source": [
        "## Data preparation\n",
        "# Further break training data into train / validation sets (# put 5000 into validation set and keep remaining 55,000 for train)\n",
        "(X_train, X_valid) = X_train[5000:], X_train[:5000] \n",
        "(y_train, y_valid) = y_train[5000:], y_train[:5000]\n",
        "\n",
        "# Reshape input data from (28, 28) to (28, 28, 1)\n",
        "w, h = 28, 28\n",
        "X_train = X_train.reshape(X_train.shape[0], w, h, 1)\n",
        "X_valid = X_valid.reshape(X_valid.shape[0], w, h, 1)\n",
        "X_test = X_test.reshape(X_test.shape[0], w, h, 1)\n",
        "\n",
        "# One-hot encode the labels\n",
        "y_train = tf.keras.utils.to_categorical(y_train, 10)\n",
        "y_valid = tf.keras.utils.to_categorical(y_valid, 10)\n",
        "y_test = tf.keras.utils.to_categorical(y_test, 10)\n",
        "\n",
        "# Print training set shape\n",
        "print(\"x_train shape:\", X_train.shape, \"y_train shape:\", y_train.shape)"
      ],
      "metadata": {
        "colab": {
          "base_uri": "https://localhost:8080/"
        },
        "id": "f4IbQpT63y5e",
        "outputId": "f63e4040-2f95-4b11-8ef1-feddf6bf6164"
      },
      "execution_count": null,
      "outputs": [
        {
          "output_type": "stream",
          "name": "stdout",
          "text": [
            "x_train shape: (55000, 28, 28, 1) y_train shape: (55000, 10)\n"
          ]
        }
      ]
    },
    {
      "cell_type": "code",
      "source": [
        "## Model building\n",
        "\n",
        "## complex model\n",
        "model = tf.keras.Sequential()\n",
        "\n",
        "# Must define the input shape in the first layer of the neural network\n",
        "model.add(tf.keras.layers.Conv2D(filters=64, kernel_size=2, padding='same', activation='relu', input_shape=(28,28,1))) \n",
        "model.add(tf.keras.layers.MaxPooling2D(pool_size=2))\n",
        "model.add(tf.keras.layers.Dropout(0.3))\n",
        "model.add(tf.keras.layers.Conv2D(filters=32, kernel_size=2, padding='same', activation='relu'))\n",
        "model.add(tf.keras.layers.Dropout(0.3))\n",
        "model.add(tf.keras.layers.Flatten())\n",
        "model.add(tf.keras.layers.Dense(256, activation='relu'))\n",
        "model.add(tf.keras.layers.Dense(10, activation='softmax'))"
      ],
      "metadata": {
        "id": "f0-CFlpf4KIU"
      },
      "execution_count": null,
      "outputs": []
    },
    {
      "cell_type": "code",
      "source": [
        "## Simple model\n",
        "\n",
        "model1 = tf.keras.Sequential()\n",
        "model1.add(tf.keras.layers.Conv2D(filters=64, kernel_size=2, padding='same', activation='relu', input_shape=(28,28,1))) \n",
        "model1.add(tf.keras.layers.Flatten())\n",
        "model1.add(tf.keras.layers.Dense(units = 16, activation = 'relu'))\n",
        "model1.add(tf.keras.layers.Dense(units = 10, activation = 'sigmoid'))\n",
        "model1.summary()\n",
        "\n",
        "#simple model 1 compile\n",
        "model1.compile(loss='categorical_crossentropy',optimizer='adam',metrics=['accuracy'])"
      ],
      "metadata": {
        "colab": {
          "base_uri": "https://localhost:8080/"
        },
        "id": "O_B1yu2g-yWg",
        "outputId": "b8039c19-7767-4a35-df6b-2e092a1f60cd"
      },
      "execution_count": null,
      "outputs": [
        {
          "output_type": "stream",
          "name": "stdout",
          "text": [
            "Model: \"sequential_3\"\n",
            "_________________________________________________________________\n",
            " Layer (type)                Output Shape              Param #   \n",
            "=================================================================\n",
            " conv2d_5 (Conv2D)           (None, 28, 28, 64)        320       \n",
            "                                                                 \n",
            " flatten_3 (Flatten)         (None, 50176)             0         \n",
            "                                                                 \n",
            " dense_6 (Dense)             (None, 16)                802832    \n",
            "                                                                 \n",
            " dense_7 (Dense)             (None, 10)                170       \n",
            "                                                                 \n",
            "=================================================================\n",
            "Total params: 803,322\n",
            "Trainable params: 803,322\n",
            "Non-trainable params: 0\n",
            "_________________________________________________________________\n"
          ]
        }
      ]
    },
    {
      "cell_type": "code",
      "source": [
        "# train with the simpler model\n",
        "from keras.callbacks import ModelCheckpoint\n",
        "model1.fit(X_train,\n",
        "         y_train,\n",
        "         batch_size=64,\n",
        "         epochs=7,\n",
        "         validation_data=(X_valid, y_valid))"
      ],
      "metadata": {
        "colab": {
          "base_uri": "https://localhost:8080/"
        },
        "id": "dc8rq5Dw-0p6",
        "outputId": "5e653bdd-f7e6-4032-927d-d6367fc2b019"
      },
      "execution_count": null,
      "outputs": [
        {
          "output_type": "stream",
          "name": "stdout",
          "text": [
            "Epoch 1/7\n",
            "860/860 [==============================] - 31s 35ms/step - loss: 0.6024 - accuracy: 0.7957 - val_loss: 0.3940 - val_accuracy: 0.8694\n",
            "Epoch 2/7\n",
            "860/860 [==============================] - 32s 37ms/step - loss: 0.3477 - accuracy: 0.8772 - val_loss: 0.3316 - val_accuracy: 0.8876\n",
            "Epoch 3/7\n",
            "860/860 [==============================] - 30s 35ms/step - loss: 0.3010 - accuracy: 0.8929 - val_loss: 0.3124 - val_accuracy: 0.8890\n",
            "Epoch 4/7\n",
            "860/860 [==============================] - 30s 35ms/step - loss: 0.2720 - accuracy: 0.9029 - val_loss: 0.3015 - val_accuracy: 0.8960\n",
            "Epoch 5/7\n",
            "860/860 [==============================] - 31s 36ms/step - loss: 0.2505 - accuracy: 0.9105 - val_loss: 0.3080 - val_accuracy: 0.8968\n",
            "Epoch 6/7\n",
            "860/860 [==============================] - 30s 35ms/step - loss: 0.2338 - accuracy: 0.9163 - val_loss: 0.3050 - val_accuracy: 0.8904\n",
            "Epoch 7/7\n",
            "860/860 [==============================] - 30s 35ms/step - loss: 0.2197 - accuracy: 0.9210 - val_loss: 0.2948 - val_accuracy: 0.8958\n"
          ]
        },
        {
          "output_type": "execute_result",
          "data": {
            "text/plain": [
              "<keras.callbacks.History at 0x7f2c03f0a490>"
            ]
          },
          "metadata": {},
          "execution_count": 21
        }
      ]
    },
    {
      "cell_type": "code",
      "source": [
        "## Complex Model compilation\n",
        "model.compile(loss='categorical_crossentropy',optimizer='adam',metrics=['accuracy'])"
      ],
      "metadata": {
        "id": "Mt5lp-0C4Nu1"
      },
      "execution_count": null,
      "outputs": []
    },
    {
      "cell_type": "code",
      "source": [
        "## Complex Model training\n",
        "\n",
        "model.fit(X_train,\n",
        "         y_train,\n",
        "         batch_size=64,\n",
        "         epochs=7,\n",
        "         validation_data=(X_valid, y_valid))"
      ],
      "metadata": {
        "colab": {
          "base_uri": "https://localhost:8080/"
        },
        "id": "fFplfKYa4X9i",
        "outputId": "d42da30b-1550-4af1-df2f-1e7c73a55a17"
      },
      "execution_count": null,
      "outputs": [
        {
          "output_type": "stream",
          "name": "stdout",
          "text": [
            "Epoch 1/7\n",
            "860/860 [==============================] - 76s 88ms/step - loss: 0.4511 - accuracy: 0.8373 - val_loss: 0.3217 - val_accuracy: 0.8880\n",
            "Epoch 2/7\n",
            "860/860 [==============================] - 75s 88ms/step - loss: 0.3100 - accuracy: 0.8867 - val_loss: 0.2711 - val_accuracy: 0.9004\n",
            "Epoch 3/7\n",
            "860/860 [==============================] - 74s 86ms/step - loss: 0.2608 - accuracy: 0.9028 - val_loss: 0.2414 - val_accuracy: 0.9118\n",
            "Epoch 4/7\n",
            "860/860 [==============================] - 75s 87ms/step - loss: 0.2288 - accuracy: 0.9148 - val_loss: 0.2417 - val_accuracy: 0.9130\n",
            "Epoch 5/7\n",
            "860/860 [==============================] - 75s 87ms/step - loss: 0.2024 - accuracy: 0.9245 - val_loss: 0.2239 - val_accuracy: 0.9172\n",
            "Epoch 6/7\n",
            "860/860 [==============================] - 75s 87ms/step - loss: 0.1820 - accuracy: 0.9316 - val_loss: 0.2210 - val_accuracy: 0.9196\n",
            "Epoch 7/7\n",
            "860/860 [==============================] - 75s 87ms/step - loss: 0.1622 - accuracy: 0.9394 - val_loss: 0.2146 - val_accuracy: 0.9212\n"
          ]
        },
        {
          "output_type": "execute_result",
          "data": {
            "text/plain": [
              "<keras.callbacks.History at 0x7f2bffe13e50>"
            ]
          },
          "metadata": {},
          "execution_count": 23
        }
      ]
    },
    {
      "cell_type": "code",
      "source": [
        "# Evaluate the model on test set\n",
        "score = model.evaluate(X_test, y_test, verbose=0)\n",
        "score1 = model1.evaluate(X_test, y_test, verbose=0)\n",
        "\n",
        "# Print test accuracy\n",
        "print('\\n', 'test accurate score of complex model:', score[1])\n",
        "print('\\n', 'test accurate score of simple model:', score1[1])\n",
        "\n",
        "#Result seems pretty similar. I don't think we need a complex model for a problem like this.\n",
        "#simple model seems to be able to produce similar result(2% accuracy diff). This beg the question, is the 2% diff worth the extra effort and computing power for a complex model?"
      ],
      "metadata": {
        "colab": {
          "base_uri": "https://localhost:8080/"
        },
        "id": "GSxRVC_p50ND",
        "outputId": "2a9bd2c8-90d9-4fec-8db5-6339adba82d5"
      },
      "execution_count": null,
      "outputs": [
        {
          "output_type": "stream",
          "name": "stdout",
          "text": [
            "\n",
            " test accurate score of complex model: 0.9172000288963318\n",
            "\n",
            " test accurate score of simple model: 0.886900007724762\n"
          ]
        }
      ]
    },
    {
      "cell_type": "code",
      "source": [
        "## visualize it using the best model, the complex version\n",
        "import numpy as np\n",
        "\n",
        "y_hat = model.predict(X_test)\n",
        "\n",
        "# Plot a random sample of 10 test images, their predicted labels and ground truth\n",
        "figure = plt.figure(figsize=(20, 8))\n",
        "for i, index in enumerate(np.random.choice(X_test.shape[0], size=15, replace=False)):\n",
        "    ax = figure.add_subplot(3, 5, i + 1, xticks=[], yticks=[])\n",
        "    # Display each image\n",
        "    ax.imshow(np.squeeze(X_test[index]))\n",
        "    predict_index = np.argmax(y_hat[index])\n",
        "    true_index = np.argmax(y_test[index])\n",
        "    # Set the title for each image\n",
        "    ax.set_title(\"{} ({})\".format(fashion_mnist_labels[predict_index], \n",
        "                                  fashion_mnist_labels[true_index]),\n",
        "                                  color=(\"green\" if predict_index == true_index else \"red\"))\n",
        "    \n",
        "  \n"
      ],
      "metadata": {
        "colab": {
          "base_uri": "https://localhost:8080/",
          "height": 485
        },
        "id": "-gtqSMBC53P6",
        "outputId": "ed8024d2-19b1-4c63-a5e3-4ceeae4accae"
      },
      "execution_count": null,
      "outputs": [
        {
          "output_type": "display_data",
          "data": {
            "text/plain": [
              "<Figure size 1440x576 with 15 Axes>"
            ],
            "image/png": "[encoded data removed]"
          },
          "metadata": {}
        }
      ]
    }
  ]
}